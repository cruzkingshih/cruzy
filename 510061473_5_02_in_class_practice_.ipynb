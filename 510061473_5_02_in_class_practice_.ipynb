{
  "nbformat": 4,
  "nbformat_minor": 0,
  "metadata": {
    "colab": {
      "provenance": [],
      "authorship_tag": "ABX9TyMji6XH6EVOzg5bSHSc7atr",
      "include_colab_link": true
    },
    "kernelspec": {
      "name": "python3",
      "display_name": "Python 3"
    },
    "language_info": {
      "name": "python"
    }
  },
  "cells": [
    {
      "cell_type": "markdown",
      "metadata": {
        "id": "view-in-github",
        "colab_type": "text"
      },
      "source": [
        "<a href=\"https://colab.research.google.com/github/cruzkingshih/cruzy/blob/main/510061473_5_02_in_class_practice_.ipynb\" target=\"_parent\"><img src=\"https://colab.research.google.com/assets/colab-badge.svg\" alt=\"Open In Colab\"/></a>"
      ]
    },
    {
      "cell_type": "code",
      "source": [
        "# function = 已經建立好的功能\n",
        "# len: 計算字串的長度\n",
        "# lower: 轉換字串為小寫 str. lower()\n",
        "# upper: 轉換字串為大寫 str. upper()"
      ],
      "metadata": {
        "id": "2uhK82gSAXGt"
      },
      "execution_count": null,
      "outputs": []
    },
    {
      "cell_type": "code",
      "source": [
        "# in class practice 1\n",
        "sent = \"Today is a good day!\"\n",
        "new_sent_upper = sent.upper()\n",
        "\n",
        "new_sent_lower = sent.lower()\n",
        "print(len(sent))\n",
        "print(new_sent_upper)\n",
        "print(new_sent_lower)"
      ],
      "metadata": {
        "colab": {
          "base_uri": "https://localhost:8080/"
        },
        "id": "GAjF-OynA1iU",
        "outputId": "84c827d4-79ae-4b17-df74-d3cdec86c40f"
      },
      "execution_count": null,
      "outputs": [
        {
          "output_type": "stream",
          "name": "stdout",
          "text": [
            "20\n",
            "TODAY IS A GOOD DAY!\n",
            "today is a good day!\n"
          ]
        }
      ]
    },
    {
      "cell_type": "code",
      "source": [
        "# in class practice 2\n",
        "string_1 = \"home\"\n",
        "string_2 = \"work\"\n",
        "\n",
        "print(f\"let's go bcak {string_1}\")\n",
        "print(f\"let's go to {string_2}\")\n",
        "\n"
      ],
      "metadata": {
        "colab": {
          "base_uri": "https://localhost:8080/"
        },
        "id": "cN3auuPXDL_O",
        "outputId": "04d0d683-36b8-4ec1-ec96-14f4f19f0dff"
      },
      "execution_count": null,
      "outputs": [
        {
          "output_type": "stream",
          "name": "stdout",
          "text": [
            "let's go bcak home\n",
            "let's go to work\n"
          ]
        }
      ]
    },
    {
      "cell_type": "code",
      "source": [
        "# common error\n",
        "# funtion needs ()\n",
        "# 全形跟半形切換\n",
        "# quotation mark needs to be a pair \"xxx\" also, both single quotation mark and double are fine but don't mix them up. i.g. \"xxx'(wrong)"
      ],
      "metadata": {
        "id": "5hAGKyYCGuyy"
      },
      "execution_count": null,
      "outputs": []
    },
    {
      "cell_type": "code",
      "source": [
        "# conditonal\n",
        "\n",
        "box = \"apple\"\n",
        "\n",
        "if box == \"apple\":\n",
        "   print (\"yes\")\n",
        "else:\n",
        "   print (\"no\")\n",
        "\n",
        "   # = : assign ; == equal\n",
        "   # indent(prevent error when giving the sencond instruciton on different lines)\n",
        "\n",
        "b = \"pinapple\"\n",
        "\n",
        "if box == \"apple\":\n",
        "   print(\"yes, i find an apple\")\n",
        "elif b == \"banana\":\n",
        "   print(\"yes\")\n",
        "   print(\" i find a banana\")\n",
        "else:\n",
        "   print(\"no\")"
      ],
      "metadata": {
        "colab": {
          "base_uri": "https://localhost:8080/"
        },
        "id": "vm_KIu6yHUtd",
        "outputId": "e8b19725-4354-4dd0-83ae-9f506bed0f36"
      },
      "execution_count": null,
      "outputs": [
        {
          "output_type": "stream",
          "name": "stdout",
          "text": [
            "yes\n",
            "yes, i find an apple\n"
          ]
        }
      ]
    },
    {
      "cell_type": "code",
      "source": [
        "# function\n",
        "# upper() lower()\n",
        "\n",
        "\n",
        "def burgermaker(material_1,material_2,material_3):\n",
        "  burger = material_1 + material_2 + material_3\n",
        "  return burger\n",
        "\n",
        "a = \"meat\"\n",
        "b = \"cheese\"\n",
        "c = \"bread\"\n",
        "\n",
        "res = burgermaker(a,b,c)\n",
        "\n",
        "print(res)"
      ],
      "metadata": {
        "colab": {
          "base_uri": "https://localhost:8080/"
        },
        "id": "VrDBTFIZKtaO",
        "outputId": "af1e7c35-f785-4225-94e1-782af6e145b8"
      },
      "execution_count": null,
      "outputs": [
        {
          "output_type": "stream",
          "name": "stdout",
          "text": [
            "meatcheesebread\n"
          ]
        }
      ]
    },
    {
      "cell_type": "code",
      "source": [
        "#  字元偵測\n",
        "\n",
        "def wordDetect(s):\n",
        "\n",
        "  if s == s.lower ():\n",
        "    print(\"lower\")\n",
        "  elif s == s.upper():\n",
        "    print('upper')\n",
        "  else:\n",
        "    print(\"mixed\")\n",
        "\n",
        "string_text = \"my name is Cruz\"\n",
        "\n",
        "wordDetect (string_text)"
      ],
      "metadata": {
        "colab": {
          "base_uri": "https://localhost:8080/"
        },
        "id": "6XRV25yIMtr7",
        "outputId": "9213ade1-4fdf-4be1-accc-e37d26647489"
      },
      "execution_count": null,
      "outputs": [
        {
          "output_type": "stream",
          "name": "stdout",
          "text": [
            "mixed\n"
          ]
        }
      ]
    },
    {
      "cell_type": "code",
      "source": [
        "# inclass practice 3\n",
        "\n",
        "def wordDetect(s):\n",
        "\n",
        "  if len(s) < 5:\n",
        "    print('short')\n",
        "  if s == s.lower():\n",
        "    print('lower')\n",
        "  elif s == s.upper():\n",
        "    print('upper')\n",
        "  else:\n",
        "    print('mixed')\n",
        "\n",
        "string_text = \"hello my name is cruzkingShih\"\n",
        "\n",
        "wordDetect (string_text)"
      ],
      "metadata": {
        "colab": {
          "base_uri": "https://localhost:8080/"
        },
        "id": "ec8sMZvYNsej",
        "outputId": "a751a6e1-99ea-43b2-cc91-660c61f47425"
      },
      "execution_count": null,
      "outputs": [
        {
          "output_type": "stream",
          "name": "stdout",
          "text": [
            "mixed\n"
          ]
        }
      ]
    }
  ]
}